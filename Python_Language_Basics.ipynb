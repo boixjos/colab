{
  "nbformat": 4,
  "nbformat_minor": 0,
  "metadata": {
    "colab": {
      "provenance": [],
      "authorship_tag": "ABX9TyOgTzONE5g71m02RBuo3hV1",
      "include_colab_link": true
    },
    "kernelspec": {
      "name": "python3",
      "display_name": "Python 3"
    },
    "language_info": {
      "name": "python"
    }
  },
  "cells": [
    {
      "cell_type": "markdown",
      "metadata": {
        "id": "view-in-github",
        "colab_type": "text"
      },
      "source": [
        "<a href=\"https://colab.research.google.com/github/boixjos/colab/blob/main/Python_Language_Basics.ipynb\" target=\"_parent\"><img src=\"https://colab.research.google.com/assets/colab-badge.svg\" alt=\"Open In Colab\"/></a>"
      ]
    },
    {
      "cell_type": "code",
      "execution_count": null,
      "metadata": {
        "colab": {
          "base_uri": "https://localhost:8080/"
        },
        "id": "-f9Dw4QGtMFZ",
        "outputId": "f0784703-6d0e-4164-a999-6dc006ec485e"
      },
      "outputs": [
        {
          "output_type": "stream",
          "name": "stdout",
          "text": [
            "False\n",
            "True\n",
            "False\n"
          ]
        }
      ],
      "source": [
        "is_game_over = False\n",
        "print(is_game_over)\n",
        "is_game_over = True\n",
        "print(is_game_over)\n",
        "is_game_over = 5 > 6\n",
        "print(is_game_over)"
      ]
    },
    {
      "cell_type": "code",
      "source": [
        "num_lives = 5\n",
        "print(num_lives)\n",
        "percent_health = 0.5\n",
        "print(percent_health)\n"
      ],
      "metadata": {
        "colab": {
          "base_uri": "https://localhost:8080/"
        },
        "id": "CUD7x8zgt10v",
        "outputId": "752cdc67-a7ee-4166-bae1-1beeb3be0c44"
      },
      "execution_count": null,
      "outputs": [
        {
          "output_type": "stream",
          "name": "stdout",
          "text": [
            "5\n",
            "0.5\n"
          ]
        }
      ]
    },
    {
      "cell_type": "code",
      "source": [
        "player_name = \"Nimish\"\n",
        "print(player_name)\n",
        "player_name = \"Mammoth\"\n",
        "print(player_name)"
      ],
      "metadata": {
        "colab": {
          "base_uri": "https://localhost:8080/"
        },
        "id": "AuNkbi5ExSYv",
        "outputId": "52f9340c-615e-448e-db41-537148653364"
      },
      "execution_count": null,
      "outputs": [
        {
          "output_type": "stream",
          "name": "stdout",
          "text": [
            "Nimish\n",
            "Mammoth\n"
          ]
        }
      ]
    },
    {
      "cell_type": "code",
      "source": [
        "print(type(is_game_over))\n",
        "print(type(num_lives))\n",
        "print(type(percent_health))\n",
        "print(type(player_name))\n",
        "\n",
        "num_lives = \"5\"\n",
        "print(type(num_lives))\n"
      ],
      "metadata": {
        "colab": {
          "base_uri": "https://localhost:8080/"
        },
        "id": "-Q6RVKDBx26M",
        "outputId": "f6b1d3b5-c6c6-429b-b372-ded0dbe58a2b"
      },
      "execution_count": null,
      "outputs": [
        {
          "output_type": "stream",
          "name": "stdout",
          "text": [
            "<class 'bool'>\n",
            "<class 'int'>\n",
            "<class 'float'>\n",
            "<class 'str'>\n",
            "<class 'str'>\n"
          ]
        }
      ]
    }
  ]
}